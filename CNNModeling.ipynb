{
 "cells": [
  {
   "cell_type": "code",
   "execution_count": 3,
   "metadata": {
    "colab": {
     "base_uri": "https://localhost:8080/",
     "height": 72,
     "resources": {
      "http://localhost:8080/nbextensions/google.colab/files.js": {
       "data": "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",
       "headers": [
        [
         "content-type",
         "application/javascript"
        ]
       ],
       "ok": true,
       "status": 200,
       "status_text": ""
      }
     }
    },
    "id": "7FtVYKxfxC8O",
    "outputId": "645e9d66-36fd-48d0-e16f-c24a52e0ada5"
   },
   "outputs": [
    {
     "data": {
      "text/html": [
       "\n",
       "     <input type=\"file\" id=\"files-61ce5fe6-f426-4414-ad83-26e618c9f5b7\" name=\"files[]\" multiple disabled\n",
       "        style=\"border:none\" />\n",
       "     <output id=\"result-61ce5fe6-f426-4414-ad83-26e618c9f5b7\">\n",
       "      Upload widget is only available when the cell has been executed in the\n",
       "      current browser session. Please rerun this cell to enable.\n",
       "      </output>\n",
       "      <script src=\"/nbextensions/google.colab/files.js\"></script> "
      ],
      "text/plain": [
       "<IPython.core.display.HTML object>"
      ]
     },
     "metadata": {
      "tags": []
     },
     "output_type": "display_data"
    },
    {
     "name": "stdout",
     "output_type": "stream",
     "text": [
      "Saving mhealth_full.csv to mhealth_full.csv\n"
     ]
    }
   ],
   "source": [
    "# File upload to google colab\n",
    "from google.colab import files\n",
    "uploaded = files.upload()"
   ]
  },
  {
   "cell_type": "code",
   "execution_count": 4,
   "metadata": {
    "id": "Zjjc-ZRh5lDQ"
   },
   "outputs": [],
   "source": [
    "# Imports\n",
    "import pandas as pd\n",
    "import numpy as np\n",
    "import matplotlib.pyplot as plt\n",
    "import seaborn as sns\n",
    "from sklearn.model_selection import train_test_split, cross_val_score\n",
    "from sklearn.metrics import classification_report, accuracy_score, recall_score, precision_score, f1_score, confusion_matrix\n",
    "from sklearn.preprocessing import StandardScaler\n",
    "from numpy import array\n",
    "from keras.models import Sequential\n",
    "from keras.layers import Dense, Flatten, Dropout\n",
    "from keras.layers.convolutional import Conv1D, MaxPooling1D\n",
    "from tensorflow.keras.utils import to_categorical\n",
    "from sklearn.model_selection import KFold"
   ]
  },
  {
   "cell_type": "code",
   "execution_count": 5,
   "metadata": {
    "id": "vASVZwgh5pGy"
   },
   "outputs": [],
   "source": [
    "data = pd.read_csv('mhealth_full.csv')"
   ]
  },
  {
   "cell_type": "code",
   "execution_count": 6,
   "metadata": {
    "id": "g_7AWSIX5ryV"
   },
   "outputs": [],
   "source": [
    "# Resample activity 0 (null class) to 30720 observations per EDA phase\n",
    "data_activity_0 = data[data['activity'] == 0]\n",
    "data_activity_else = data[data['activity'] != 0]\n",
    "\n",
    "data_activity_0 = data_activity_0.sample(n=30720, random_state=1)\n",
    "data = pd.concat([data_activity_0, data_activity_else])"
   ]
  },
  {
   "cell_type": "code",
   "execution_count": 7,
   "metadata": {
    "id": "CMfHvEHs5v2g"
   },
   "outputs": [],
   "source": [
    "# Split data between predictors and output variable\n",
    "X = data.drop(['activity', 'subject'], axis=1)\n",
    "y = data['activity']"
   ]
  },
  {
   "cell_type": "code",
   "execution_count": 35,
   "metadata": {
    "colab": {
     "base_uri": "https://localhost:8080/"
    },
    "id": "hXwyLgeJAjpZ",
    "outputId": "40acd22a-26ae-4bf4-e7d4-0d64a3e581cd"
   },
   "outputs": [
    {
     "data": {
      "text/plain": [
       "Index(['acc_ch_x', 'acc_ch_y', 'acc_ch_z', 'acc_la_x', 'acc_la_y', 'acc_la_z',\n",
       "       'gyr_la_x', 'gyr_la_y', 'gyr_la_z', 'mag_la_x', 'mag_la_y', 'mag_la_z',\n",
       "       'acc_rw_x', 'acc_rw_y', 'acc_rw_z', 'gyr_rw_x', 'gyr_rw_y', 'gyr_rw_z',\n",
       "       'mag_rw_x', 'mag_rw_y', 'mag_rw_z'],\n",
       "      dtype='object')"
      ]
     },
     "execution_count": 35,
     "metadata": {
      "tags": []
     },
     "output_type": "execute_result"
    }
   ],
   "source": [
    "X.columns"
   ]
  },
  {
   "cell_type": "code",
   "execution_count": 37,
   "metadata": {
    "colab": {
     "base_uri": "https://localhost:8080/"
    },
    "id": "5gvkGthuAoWH",
    "outputId": "6bcf2f49-4520-4b6d-c75e-a8e80c8ed79e"
   },
   "outputs": [
    {
     "data": {
      "text/plain": [
       "978959      0\n",
       "332102      0\n",
       "153015      0\n",
       "776193      0\n",
       "641719      0\n",
       "           ..\n",
       "1213641    12\n",
       "1213642    12\n",
       "1213643    12\n",
       "1213644    12\n",
       "1213645    12\n",
       "Name: activity, Length: 373915, dtype: int64"
      ]
     },
     "execution_count": 37,
     "metadata": {
      "tags": []
     },
     "output_type": "execute_result"
    }
   ],
   "source": [
    "y"
   ]
  },
  {
   "cell_type": "code",
   "execution_count": 8,
   "metadata": {
    "id": "QV48x16t5xhA"
   },
   "outputs": [],
   "source": [
    "# Scale full set of predictors\n",
    "X_scaled = StandardScaler().fit_transform(X)"
   ]
  },
  {
   "cell_type": "code",
   "execution_count": 9,
   "metadata": {
    "id": "w7DusUU25zri"
   },
   "outputs": [],
   "source": [
    "# Create train and test sets\n",
    "X_train, X_test, y_train, y_test = train_test_split(X_scaled, y, test_size=0.25, random_state=1)"
   ]
  },
  {
   "cell_type": "code",
   "execution_count": 10,
   "metadata": {
    "id": "eZbL57IXRoIf"
   },
   "outputs": [],
   "source": [
    "# Scale train/ test predictors based on training data\n",
    "scaler = StandardScaler().fit(X_train)\n",
    "X_train_scaled = scaler.transform(X_train)\n",
    "X_test_scaled = scaler.transform(X_test)"
   ]
  },
  {
   "cell_type": "code",
   "execution_count": 11,
   "metadata": {
    "id": "2LXD4E7JFm-Z"
   },
   "outputs": [],
   "source": [
    "# Results summarizer function (scores, confusion matrix) for classification results\n",
    "def results_summarizer(y_true, y_pred):\n",
    "    cm = confusion_matrix(y_true, y_pred)\n",
    "    acc = accuracy_score(y_true, y_pred)\n",
    "    prec = precision_score(y_true, y_pred, average='macro')\n",
    "    rec = recall_score(y_true, y_pred, average='macro')\n",
    "    f1 = f1_score(y_true, y_pred, average='macro')\n",
    "    \n",
    "    activity_map = {\n",
    "        0: 'Null',\n",
    "        1: 'Standing still',  \n",
    "        2: 'Sitting and relaxing', \n",
    "        3: 'Lying down',  \n",
    "        4: 'Walking',  \n",
    "        5: 'Climbing stairs',  \n",
    "        6: 'Waist bends forward',\n",
    "        7: 'Frontal elevation of arms', \n",
    "        8: 'Knees bending (crouching)', \n",
    "        9: 'Cycling', \n",
    "        10: 'Jogging', \n",
    "        11: 'Running', \n",
    "        12: 'Jump front & back' \n",
    "    }\n",
    "    plt.figure(figsize=(14, 12))\n",
    "    \n",
    "    sns.heatmap(cm,\n",
    "                annot=True,\n",
    "                cmap='Blues',\n",
    "                xticklabels=activity_map.values(),\n",
    "                yticklabels=activity_map.values()\n",
    "               ) \n",
    "    \n",
    "    plt.title('Confusion Matrix')\n",
    "    plt.xlabel('Predicted Activity')\n",
    "    plt.ylabel('Actual Activity')\n",
    "    plt.show()\n",
    "    \n",
    "    print(f'Accuracy Score: ' + '{:.4%}'.format(acc))\n",
    "    print(f'Precision Score: ' + '{:.4%}'.format(prec))\n",
    "    print(f'Recall Score: ' + '{:.4%}'.format(rec))\n",
    "    print(f'F_1 Score: ' + '{:.4%}'.format(f1))"
   ]
  },
  {
   "cell_type": "code",
   "execution_count": 12,
   "metadata": {
    "id": "jLIEc04iV6oh"
   },
   "outputs": [],
   "source": [
    "# Reformat the training data into sequence samples\n",
    "# Source: https://machinelearningmastery.com/how-to-develop-convolutional-neural-network-models-for-time-series-forecasting/\n",
    "def split_sequences(sequences, n_steps):\n",
    "\tX, y = list(), list()\n",
    "\tfor i in range(len(sequences)):\n",
    "\t\t# find the end of this pattern\n",
    "\t\tend_ix = i + n_steps\n",
    "\t\t# check if we are beyond the dataset\n",
    "\t\tif end_ix > len(sequences):\n",
    "\t\t\tbreak\n",
    "\t\t# gather input and output parts of the pattern\n",
    "\t\tseq_x, seq_y = sequences[i:end_ix, :-1], sequences[end_ix-1, -1]\n",
    "\t\tX.append(seq_x)\n",
    "\t\ty.append(seq_y)\n",
    "\treturn array(X), array(y)"
   ]
  },
  {
   "cell_type": "code",
   "execution_count": 13,
   "metadata": {
    "id": "2MUXsjPdXziF"
   },
   "outputs": [],
   "source": [
    "# Merge train and test X/y data to apply sequence transformation function\n",
    "y_train_array = np.array(y_train)\n",
    "train_set = np.c_[X_train_scaled, y_train_array]\n",
    "\n",
    "y_test_array = np.array(y_test)\n",
    "test_set = np.c_[X_test_scaled, y_test_array]"
   ]
  },
  {
   "cell_type": "code",
   "execution_count": 14,
   "metadata": {
    "colab": {
     "base_uri": "https://localhost:8080/"
    },
    "id": "aGNhvx4hQ4sb",
    "outputId": "9b6efc67-19dc-4d90-d56d-59c16d7ddcaf"
   },
   "outputs": [
    {
     "name": "stdout",
     "output_type": "stream",
     "text": [
      "(280412, 25, 21) (280412,)\n",
      "(93455, 25, 21) (93455,)\n"
     ]
    }
   ],
   "source": [
    "# Apply sequence transformation using time step of 25 for both train and test data\n",
    "X_train_seq, y_train_seq = split_sequences(train_set, 25)\n",
    "print(X_train_seq.shape, y_train_seq.shape)\n",
    "\n",
    "X_test_seq, y_test_seq = split_sequences(test_set, 25)\n",
    "print(X_test_seq.shape, y_test_seq.shape)"
   ]
  },
  {
   "cell_type": "code",
   "execution_count": 15,
   "metadata": {
    "colab": {
     "base_uri": "https://localhost:8080/"
    },
    "id": "NWjoXCI_w4Jf",
    "outputId": "fc77fde8-4b3d-44c8-8e59-cbff6513fa43"
   },
   "outputs": [
    {
     "name": "stdout",
     "output_type": "stream",
     "text": [
      "(280412, 13)\n",
      "[[0. 0. 1. ... 0. 0. 0.]\n",
      " [0. 0. 0. ... 0. 0. 0.]\n",
      " [0. 0. 0. ... 0. 1. 0.]\n",
      " ...\n",
      " [0. 0. 0. ... 0. 0. 0.]\n",
      " [0. 0. 0. ... 1. 0. 0.]\n",
      " [0. 0. 0. ... 1. 0. 0.]]\n",
      "(93455, 13)\n",
      "[[0. 0. 0. ... 0. 0. 0.]\n",
      " [1. 0. 0. ... 0. 0. 0.]\n",
      " [0. 0. 0. ... 0. 0. 0.]\n",
      " ...\n",
      " [0. 0. 0. ... 0. 0. 0.]\n",
      " [0. 0. 0. ... 0. 0. 0.]\n",
      " [0. 0. 0. ... 0. 0. 0.]]\n"
     ]
    }
   ],
   "source": [
    "# Convert output variables to categorical for CNN\n",
    "y_train_seq = to_categorical(y_train_seq)\n",
    "print(y_train_seq.shape)\n",
    "print(y_train_seq)\n",
    "\n",
    "y_test_seq = to_categorical(y_test_seq)\n",
    "print(y_test_seq.shape)\n",
    "print(y_test_seq)"
   ]
  },
  {
   "cell_type": "code",
   "execution_count": 16,
   "metadata": {
    "colab": {
     "base_uri": "https://localhost:8080/"
    },
    "id": "AvCiY6H7u_5q",
    "outputId": "fb6d339d-f415-4699-b311-06468923d648"
   },
   "outputs": [
    {
     "name": "stdout",
     "output_type": "stream",
     "text": [
      "25 21 13\n"
     ]
    }
   ],
   "source": [
    "# Produce variables for CNN input/output shape\n",
    "n_timesteps, n_features, n_outputs = X_train_seq.shape[1], X_train_seq.shape[2], y_train_seq.shape[1]\n",
    "print(n_timesteps, n_features, n_outputs)"
   ]
  },
  {
   "cell_type": "code",
   "execution_count": 15,
   "metadata": {
    "id": "hulamtYFSbik"
   },
   "outputs": [],
   "source": [
    "# Build CNN model using keras. For model building suggestions, referenced: \n",
    "# https://machinelearningmastery.com/deep-learning-models-for-human-activity-recognition/\n",
    "# https://machinelearningmastery.com/how-to-choose-loss-functions-when-training-deep-learning-neural-networks/\n",
    "# https://machinelearningmastery.com/how-to-develop-convolutional-neural-network-models-for-time-series-forecasting/\n",
    "\n",
    "# Sequential model type\n",
    "model = Sequential()\n",
    "# 2 1D CNN layers for learning features from the time series samples\n",
    "model.add(Conv1D(filters=64, kernel_size=3, activation='relu', input_shape=(n_timesteps,n_features), padding='same'))\n",
    "model.add(Conv1D(filters=64, kernel_size=3, activation='relu', padding='same'))\n",
    "# Dropout layer for easing learning process\n",
    "model.add(Dropout(0.5))\n",
    "# Pooling layer - reduces learned feature sizes to most essential elements\n",
    "model.add(MaxPooling1D(pool_size=2))\n",
    "# Flatten learned features to vector\n",
    "model.add(Flatten())\n",
    "# Fully connected dense layer - interpret features\n",
    "model.add(Dense(128, activation='relu'))\n",
    "# Output layer using softmax\n",
    "model.add(Dense(n_outputs, activation='softmax'))\n",
    "model.compile(optimizer='adam', metrics=['accuracy'], loss='categorical_crossentropy')"
   ]
  },
  {
   "cell_type": "code",
   "execution_count": 16,
   "metadata": {
    "colab": {
     "base_uri": "https://localhost:8080/",
     "height": 0
    },
    "id": "m5Qnf6lInaUO",
    "outputId": "6287c540-f8e4-4264-b6bc-f2efecc6bdf0"
   },
   "outputs": [
    {
     "name": "stdout",
     "output_type": "stream",
     "text": [
      "Epoch 1/10\n",
      "8763/8763 [==============================] - 70s 3ms/step - loss: 1.3792 - accuracy: 0.5145\n",
      "Epoch 2/10\n",
      "8763/8763 [==============================] - 27s 3ms/step - loss: 0.5568 - accuracy: 0.8092\n",
      "Epoch 3/10\n",
      "8763/8763 [==============================] - 27s 3ms/step - loss: 0.4669 - accuracy: 0.8420\n",
      "Epoch 4/10\n",
      "8763/8763 [==============================] - 27s 3ms/step - loss: 0.4179 - accuracy: 0.8610\n",
      "Epoch 5/10\n",
      "8763/8763 [==============================] - 27s 3ms/step - loss: 0.3944 - accuracy: 0.8694\n",
      "Epoch 6/10\n",
      "8763/8763 [==============================] - 27s 3ms/step - loss: 0.3705 - accuracy: 0.8788\n",
      "Epoch 7/10\n",
      "8763/8763 [==============================] - 27s 3ms/step - loss: 0.3544 - accuracy: 0.8860\n",
      "Epoch 8/10\n",
      "8763/8763 [==============================] - 27s 3ms/step - loss: 0.3397 - accuracy: 0.8899\n",
      "Epoch 9/10\n",
      "8763/8763 [==============================] - 28s 3ms/step - loss: 0.3264 - accuracy: 0.8952\n",
      "Epoch 10/10\n",
      "8763/8763 [==============================] - 27s 3ms/step - loss: 0.3188 - accuracy: 0.8977\n"
     ]
    },
    {
     "data": {
      "text/plain": [
       "<keras.callbacks.History at 0x7f91f8c02310>"
      ]
     },
     "execution_count": 16,
     "metadata": {
      "tags": []
     },
     "output_type": "execute_result"
    }
   ],
   "source": [
    "# Fit model on training data with 10 epochs\n",
    "model.fit(X_train_seq, y_train_seq, epochs=10)"
   ]
  },
  {
   "cell_type": "code",
   "execution_count": 17,
   "metadata": {
    "colab": {
     "base_uri": "https://localhost:8080/",
     "height": 0
    },
    "id": "_U7MGs3WqQHn",
    "outputId": "44e0a087-99ab-46a6-a1af-05b877943374"
   },
   "outputs": [
    {
     "name": "stdout",
     "output_type": "stream",
     "text": [
      "2921/2921 [==============================] - 7s 2ms/step - loss: 0.2845 - accuracy: 0.9099\n",
      "0.9099459648132324\n"
     ]
    }
   ],
   "source": [
    "# Evaluate model against test data\n",
    "_, accuracy = model.evaluate(X_test_seq, y_test_seq)\n",
    "print(accuracy)"
   ]
  },
  {
   "cell_type": "code",
   "execution_count": 18,
   "metadata": {
    "colab": {
     "base_uri": "https://localhost:8080/",
     "height": 0
    },
    "id": "azGpfqzSDVDA",
    "outputId": "059f288d-126f-4850-d24b-c72a97623f6a"
   },
   "outputs": [
    {
     "data": {
      "text/plain": [
       "(93455, 1)"
      ]
     },
     "execution_count": 18,
     "metadata": {
      "tags": []
     },
     "output_type": "execute_result"
    }
   ],
   "source": [
    "# Make predictions on the test data\n",
    "y_pred = model.predict(X_test_seq)\n",
    "y_pred = np.argmax(y_pred, axis = 1)\n",
    "y_pred = y_pred.reshape(-1,1)\n",
    "y_pred.shape"
   ]
  },
  {
   "cell_type": "code",
   "execution_count": 19,
   "metadata": {
    "colab": {
     "base_uri": "https://localhost:8080/",
     "height": 923
    },
    "id": "xxG4PQarF8wm",
    "outputId": "21785908-afc8-4ce4-88ec-ebecae992a6a",
    "scrolled": false
   },
   "outputs": [
    {
     "data": {
      "image/png": "[encoded data removed]",
      "text/plain": [
       "<Figure size 1008x864 with 2 Axes>"
      ]
     },
     "metadata": {
      "needs_background": "light",
      "tags": []
     },
     "output_type": "display_data"
    },
    {
     "name": "stdout",
     "output_type": "stream",
     "text": [
      "Accuracy Score: 90.9946%\n",
      "Precision Score: 91.3622%\n",
      "Recall Score: 90.5699%\n",
      "F_1 Score: 90.2493%\n"
     ]
    }
   ],
   "source": [
    "# Show results\n",
    "# Note: Needed slice test data to 25 and onwards to match predictions due to time step in model\n",
    "results_summarizer(y_test[24:], y_pred)"
   ]
  },
  {
   "cell_type": "code",
   "execution_count": 17,
   "metadata": {
    "colab": {
     "base_uri": "https://localhost:8080/"
    },
    "id": "19Y6JEb-jdY-",
    "outputId": "dca69459-64ae-4c57-cb11-b9572ace74cc"
   },
   "outputs": [
    {
     "name": "stdout",
     "output_type": "stream",
     "text": [
      "(280412, 25, 21) (280412, 13)\n"
     ]
    }
   ],
   "source": [
    "# Transform full data set for use in cross-validation\n",
    "# Merge X/y data to apply sequence transformation function\n",
    "y_array = np.array(y)\n",
    "full_set = np.c_[X_scaled, y_array]\n",
    "# Apply sequence transformation using time step of 25 for both train and test data\n",
    "X_seq, y_seq = split_sequences(full_set, 25)\n",
    "print(X_train_seq.shape, y_train_seq.shape)"
   ]
  },
  {
   "cell_type": "code",
   "execution_count": 21,
   "metadata": {
    "colab": {
     "base_uri": "https://localhost:8080/",
     "height": 0
    },
    "id": "B5JFwbA_SDXT",
    "outputId": "ebe4b0fa-59e7-4ccf-c1a9-3c669da89f8d"
   },
   "outputs": [
    {
     "name": "stdout",
     "output_type": "stream",
     "text": [
      "Epoch 1/10\n",
      "9348/9348 [==============================] - 30s 3ms/step - loss: 0.1454 - accuracy: 0.9571\n",
      "Epoch 2/10\n",
      "9348/9348 [==============================] - 29s 3ms/step - loss: 0.0204 - accuracy: 0.9949\n",
      "Epoch 3/10\n",
      "9348/9348 [==============================] - 29s 3ms/step - loss: 0.0157 - accuracy: 0.9963\n",
      "Epoch 4/10\n",
      "9348/9348 [==============================] - 29s 3ms/step - loss: 0.0157 - accuracy: 0.9962\n",
      "Epoch 5/10\n",
      "9348/9348 [==============================] - 30s 3ms/step - loss: 0.0138 - accuracy: 0.9970\n",
      "Epoch 6/10\n",
      "9348/9348 [==============================] - 29s 3ms/step - loss: 0.0130 - accuracy: 0.9974\n",
      "Epoch 7/10\n",
      "9348/9348 [==============================] - 29s 3ms/step - loss: 0.0154 - accuracy: 0.9974\n",
      "Epoch 8/10\n",
      "9348/9348 [==============================] - 29s 3ms/step - loss: 0.0116 - accuracy: 0.9978\n",
      "Epoch 9/10\n",
      "9348/9348 [==============================] - 29s 3ms/step - loss: 0.0127 - accuracy: 0.9977\n",
      "Epoch 10/10\n",
      "9348/9348 [==============================] - 29s 3ms/step - loss: 0.0122 - accuracy: 0.9979\n",
      "2337/2337 [==============================] - 6s 2ms/step - loss: 0.0048 - accuracy: 0.9991\n",
      "Epoch 1/10\n",
      "9348/9348 [==============================] - 30s 3ms/step - loss: 0.1392 - accuracy: 0.9578\n",
      "Epoch 2/10\n",
      "9348/9348 [==============================] - 29s 3ms/step - loss: 0.0197 - accuracy: 0.9950\n",
      "Epoch 3/10\n",
      "9348/9348 [==============================] - 30s 3ms/step - loss: 0.0160 - accuracy: 0.9960\n",
      "Epoch 4/10\n",
      "9348/9348 [==============================] - 29s 3ms/step - loss: 0.0145 - accuracy: 0.9970\n",
      "Epoch 5/10\n",
      "9348/9348 [==============================] - 30s 3ms/step - loss: 0.0137 - accuracy: 0.9972\n",
      "Epoch 6/10\n",
      "9348/9348 [==============================] - 30s 3ms/step - loss: 0.0121 - accuracy: 0.9975\n",
      "Epoch 7/10\n",
      "9348/9348 [==============================] - 29s 3ms/step - loss: 0.0127 - accuracy: 0.9977\n",
      "Epoch 8/10\n",
      "9348/9348 [==============================] - 30s 3ms/step - loss: 0.0142 - accuracy: 0.9974\n",
      "Epoch 9/10\n",
      "9348/9348 [==============================] - 29s 3ms/step - loss: 0.0132 - accuracy: 0.9979\n",
      "Epoch 10/10\n",
      "9348/9348 [==============================] - 30s 3ms/step - loss: 0.0127 - accuracy: 0.9980\n",
      "2337/2337 [==============================] - 6s 2ms/step - loss: 0.0076 - accuracy: 0.9989\n",
      "Epoch 1/10\n",
      "9348/9348 [==============================] - 30s 3ms/step - loss: 0.1486 - accuracy: 0.9547\n",
      "Epoch 2/10\n",
      "9348/9348 [==============================] - 30s 3ms/step - loss: 0.0218 - accuracy: 0.9947\n",
      "Epoch 3/10\n",
      "9348/9348 [==============================] - 29s 3ms/step - loss: 0.0170 - accuracy: 0.9959\n",
      "Epoch 4/10\n",
      "9348/9348 [==============================] - 29s 3ms/step - loss: 0.0153 - accuracy: 0.9966\n",
      "Epoch 5/10\n",
      "9348/9348 [==============================] - 30s 3ms/step - loss: 0.0159 - accuracy: 0.9966\n",
      "Epoch 6/10\n",
      "9348/9348 [==============================] - 29s 3ms/step - loss: 0.0124 - accuracy: 0.9975\n",
      "Epoch 7/10\n",
      "9348/9348 [==============================] - 30s 3ms/step - loss: 0.0132 - accuracy: 0.9974\n",
      "Epoch 8/10\n",
      "9348/9348 [==============================] - 29s 3ms/step - loss: 0.0130 - accuracy: 0.9976\n",
      "Epoch 9/10\n",
      "9348/9348 [==============================] - 29s 3ms/step - loss: 0.0112 - accuracy: 0.9980\n",
      "Epoch 10/10\n",
      "9348/9348 [==============================] - 30s 3ms/step - loss: 0.0140 - accuracy: 0.9980\n",
      "2337/2337 [==============================] - 5s 2ms/step - loss: 0.0066 - accuracy: 0.9990\n",
      "Epoch 1/10\n",
      "9348/9348 [==============================] - 30s 3ms/step - loss: 0.1425 - accuracy: 0.9569\n",
      "Epoch 2/10\n",
      "9348/9348 [==============================] - 29s 3ms/step - loss: 0.0243 - accuracy: 0.9940\n",
      "Epoch 3/10\n",
      "9348/9348 [==============================] - 29s 3ms/step - loss: 0.0169 - accuracy: 0.9960\n",
      "Epoch 4/10\n",
      "9348/9348 [==============================] - 29s 3ms/step - loss: 0.0157 - accuracy: 0.9963\n",
      "Epoch 5/10\n",
      "9348/9348 [==============================] - 29s 3ms/step - loss: 0.0130 - accuracy: 0.9969\n",
      "Epoch 6/10\n",
      "9348/9348 [==============================] - 29s 3ms/step - loss: 0.0133 - accuracy: 0.9974\n",
      "Epoch 7/10\n",
      "9348/9348 [==============================] - 30s 3ms/step - loss: 0.0118 - accuracy: 0.9976\n",
      "Epoch 8/10\n",
      "9348/9348 [==============================] - 30s 3ms/step - loss: 0.0117 - accuracy: 0.9978\n",
      "Epoch 9/10\n",
      "9348/9348 [==============================] - 30s 3ms/step - loss: 0.0141 - accuracy: 0.9975\n",
      "Epoch 10/10\n",
      "9348/9348 [==============================] - 30s 3ms/step - loss: 0.0125 - accuracy: 0.9978\n",
      "2337/2337 [==============================] - 6s 2ms/step - loss: 0.0056 - accuracy: 0.9989\n",
      "Epoch 1/10\n",
      "9348/9348 [==============================] - 30s 3ms/step - loss: 0.1458 - accuracy: 0.9570\n",
      "Epoch 2/10\n",
      "9348/9348 [==============================] - 29s 3ms/step - loss: 0.0210 - accuracy: 0.9944\n",
      "Epoch 3/10\n",
      "9348/9348 [==============================] - 29s 3ms/step - loss: 0.0170 - accuracy: 0.9959\n",
      "Epoch 4/10\n",
      "9348/9348 [==============================] - 30s 3ms/step - loss: 0.0163 - accuracy: 0.9965\n",
      "Epoch 5/10\n",
      "9348/9348 [==============================] - 30s 3ms/step - loss: 0.0137 - accuracy: 0.9971\n",
      "Epoch 6/10\n",
      "9348/9348 [==============================] - 30s 3ms/step - loss: 0.0135 - accuracy: 0.9972\n",
      "Epoch 7/10\n",
      "9348/9348 [==============================] - 30s 3ms/step - loss: 0.0125 - accuracy: 0.9976\n",
      "Epoch 8/10\n",
      "9348/9348 [==============================] - 30s 3ms/step - loss: 0.0151 - accuracy: 0.9974\n",
      "Epoch 9/10\n",
      "9348/9348 [==============================] - 30s 3ms/step - loss: 0.0157 - accuracy: 0.9975\n",
      "Epoch 10/10\n",
      "9348/9348 [==============================] - 30s 3ms/step - loss: 0.0142 - accuracy: 0.9980\n",
      "2337/2337 [==============================] - 6s 2ms/step - loss: 0.0123 - accuracy: 0.9986\n"
     ]
    }
   ],
   "source": [
    "# Perform cross validation\n",
    "scores = []\n",
    "\n",
    "# Create k fold cross validator\n",
    "kfold = KFold(n_splits=5, shuffle=True)\n",
    "\n",
    "# K-fold Cross Validation model evaluation\n",
    "for train, test in kfold.split(X_seq, y_seq):\n",
    "  # Convert output variables to categorical for model\n",
    "  y_train_seq_cv = to_categorical(y_seq[train])\n",
    "  y_test_seq_cv = to_categorical(y_seq[test])\n",
    "\n",
    "  model = Sequential()\n",
    "  model.add(Conv1D(filters=64, kernel_size=3, activation='relu', input_shape=(n_timesteps,n_features), padding='same'))\n",
    "  model.add(Conv1D(filters=64, kernel_size=3, activation='relu', padding='same'))\n",
    "  model.add(Dropout(0.5))\n",
    "  model.add(MaxPooling1D(pool_size=2))\n",
    "  model.add(Flatten())\n",
    "  model.add(Dense(128, activation='relu'))\n",
    "  model.add(Dense(n_outputs, activation='softmax'))\n",
    "  model.compile(optimizer='adam', metrics=['accuracy'], loss='categorical_crossentropy')\n",
    "  model.fit(X_seq[train], y_train_seq_cv, epochs=10)\n",
    "  _, accuracy = model.evaluate(X_seq[test], y_test_seq_cv)\n",
    "  scores.append(accuracy)"
   ]
  },
  {
   "cell_type": "code",
   "execution_count": 28,
   "metadata": {
    "colab": {
     "base_uri": "https://localhost:8080/",
     "height": 0
    },
    "id": "LmACUS4BUvjy",
    "outputId": "b209f6cf-d3ee-4141-c426-3455e213b326"
   },
   "outputs": [
    {
     "name": "stdout",
     "output_type": "stream",
     "text": [
      "[0.9991040229797363, 0.9989168047904968, 0.9989970326423645, 0.9988900423049927, 0.9986359477043152]\n",
      "0.9989087700843811\n"
     ]
    }
   ],
   "source": [
    "print(scores)\n",
    "print(sum(scores) / len(scores))"
   ]
  },
  {
   "cell_type": "markdown",
   "metadata": {
    "id": "Qpp7hBzb34sq"
   },
   "source": [
    "NOTE: Test/ train splitting the data AFTER it has been sequenced appears to make a significant impact on classification accuracy. This may be due to the default shuffling effect of sklearn's train_test_split. Attempting model with new test/train split"
   ]
  },
  {
   "cell_type": "code",
   "execution_count": 31,
   "metadata": {
    "id": "Nybmi2yJ4DCh"
   },
   "outputs": [],
   "source": [
    "# Create train and test sets\n",
    "X_train_new, X_test_new, y_train_new, y_test_new = train_test_split(X_seq, y_seq, test_size=0.25, random_state=1)\n",
    "y_train_new = to_categorical(y_train_new)"
   ]
  },
  {
   "cell_type": "code",
   "execution_count": 20,
   "metadata": {
    "colab": {
     "base_uri": "https://localhost:8080/"
    },
    "id": "jwaeQgeF5glp",
    "outputId": "1bbfe581-98fe-4fef-f835-636baab68ec5"
   },
   "outputs": [
    {
     "name": "stdout",
     "output_type": "stream",
     "text": [
      "Epoch 1/10\n",
      "8764/8764 [==============================] - 97s 9ms/step - loss: 0.1534 - accuracy: 0.9532\n",
      "Epoch 2/10\n",
      "8764/8764 [==============================] - 81s 9ms/step - loss: 0.0213 - accuracy: 0.9948\n",
      "Epoch 3/10\n",
      "8764/8764 [==============================] - 79s 9ms/step - loss: 0.0172 - accuracy: 0.9960\n",
      "Epoch 4/10\n",
      "8764/8764 [==============================] - 78s 9ms/step - loss: 0.0130 - accuracy: 0.9969\n",
      "Epoch 5/10\n",
      "8764/8764 [==============================] - 77s 9ms/step - loss: 0.0136 - accuracy: 0.9971\n",
      "Epoch 6/10\n",
      "8764/8764 [==============================] - 77s 9ms/step - loss: 0.0122 - accuracy: 0.9975\n",
      "Epoch 7/10\n",
      "8764/8764 [==============================] - 78s 9ms/step - loss: 0.0109 - accuracy: 0.9979\n",
      "Epoch 8/10\n",
      "8764/8764 [==============================] - 83s 9ms/step - loss: 0.0123 - accuracy: 0.9977\n",
      "Epoch 9/10\n",
      "8764/8764 [==============================] - 79s 9ms/step - loss: 0.0123 - accuracy: 0.9978\n",
      "Epoch 10/10\n",
      "8764/8764 [==============================] - 79s 9ms/step - loss: 0.0136 - accuracy: 0.9978\n"
     ]
    },
    {
     "data": {
      "text/plain": [
       "<keras.callbacks.History at 0x7fb3da163910>"
      ]
     },
     "execution_count": 20,
     "metadata": {
      "tags": []
     },
     "output_type": "execute_result"
    }
   ],
   "source": [
    "  model = Sequential()\n",
    "  model.add(Conv1D(filters=64, kernel_size=3, activation='relu', input_shape=(n_timesteps,n_features), padding='same'))\n",
    "  model.add(Conv1D(filters=64, kernel_size=3, activation='relu', padding='same'))\n",
    "  model.add(Dropout(0.5))\n",
    "  model.add(MaxPooling1D(pool_size=2))\n",
    "  model.add(Flatten())\n",
    "  model.add(Dense(128, activation='relu'))\n",
    "  model.add(Dense(n_outputs, activation='softmax'))\n",
    "  model.compile(optimizer='adam', metrics=['accuracy'], loss='categorical_crossentropy')\n",
    "  model.fit(X_train_new, y_train_new, epochs=10)"
   ]
  },
  {
   "cell_type": "code",
   "execution_count": 21,
   "metadata": {
    "colab": {
     "base_uri": "https://localhost:8080/"
    },
    "id": "keZUQb1z6uQ4",
    "outputId": "9c34d59b-77cf-4da8-ebd4-dbdbf10b5c37"
   },
   "outputs": [
    {
     "name": "stdout",
     "output_type": "stream",
     "text": [
      "Model: \"sequential\"\n",
      "_________________________________________________________________\n",
      "Layer (type)                 Output Shape              Param #   \n",
      "=================================================================\n",
      "conv1d (Conv1D)              (None, 25, 64)            4096      \n",
      "_________________________________________________________________\n",
      "conv1d_1 (Conv1D)            (None, 25, 64)            12352     \n",
      "_________________________________________________________________\n",
      "dropout (Dropout)            (None, 25, 64)            0         \n",
      "_________________________________________________________________\n",
      "max_pooling1d (MaxPooling1D) (None, 12, 64)            0         \n",
      "_________________________________________________________________\n",
      "flatten (Flatten)            (None, 768)               0         \n",
      "_________________________________________________________________\n",
      "dense (Dense)                (None, 128)               98432     \n",
      "_________________________________________________________________\n",
      "dense_1 (Dense)              (None, 13)                1677      \n",
      "=================================================================\n",
      "Total params: 116,557\n",
      "Trainable params: 116,557\n",
      "Non-trainable params: 0\n",
      "_________________________________________________________________\n"
     ]
    }
   ],
   "source": [
    "# Get summary of model\n",
    "model.summary()"
   ]
  },
  {
   "cell_type": "code",
   "execution_count": 26,
   "metadata": {
    "id": "Jyy9b_X45uTr"
   },
   "outputs": [],
   "source": [
    "# Make predictions and summarize results\n",
    "y_pred = model.predict(X_test_new)\n",
    "y_pred = np.argmax(y_pred, axis = 1)\n",
    "y_pred = y_pred.reshape(-1,1)"
   ]
  },
  {
   "cell_type": "code",
   "execution_count": 34,
   "metadata": {
    "colab": {
     "base_uri": "https://localhost:8080/",
     "height": 923
    },
    "id": "C099ED5J89oa",
    "outputId": "4568072d-4f1f-40d9-9b5c-2c0fa0be514e"
   },
   "outputs": [
    {
     "data": {
      "image/png": "[encoded data removed]",
      "text/plain": [
       "<Figure size 1008x864 with 2 Axes>"
      ]
     },
     "metadata": {
      "needs_background": "light",
      "tags": []
     },
     "output_type": "display_data"
    },
    {
     "name": "stdout",
     "output_type": "stream",
     "text": [
      "Accuracy Score: 99.9251%\n",
      "Precision Score: 99.9175%\n",
      "Recall Score: 99.9206%\n",
      "F_1 Score: 99.9190%\n"
     ]
    }
   ],
   "source": [
    "results_summarizer(y_test_new, y_pred)"
   ]
  },
  {
   "cell_type": "markdown",
   "metadata": {},
   "source": [
    "Clearly, shuffling data after creating samples (rather than before) results in better outcome. Likely because shuffling before eliminates the actual sequence of the data!"
   ]
  },
  {
   "cell_type": "code",
   "execution_count": null,
   "metadata": {},
   "outputs": [],
   "source": []
  }
 ],
 "metadata": {
  "accelerator": "GPU",
  "colab": {
   "collapsed_sections": [],
   "name": "Modeling.ipynb",
   "provenance": []
  },
  "kernelspec": {
   "display_name": "Python 3",
   "language": "python",
   "name": "python3"
  },
  "language_info": {
   "codemirror_mode": {
    "name": "ipython",
    "version": 3
   },
   "file_extension": ".py",
   "mimetype": "text/x-python",
   "name": "python",
   "nbconvert_exporter": "python",
   "pygments_lexer": "ipython3",
   "version": "3.8.3"
  }
 },
 "nbformat": 4,
 "nbformat_minor": 1
}
