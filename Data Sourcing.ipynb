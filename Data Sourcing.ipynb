{
 "cells": [
  {
   "cell_type": "code",
   "execution_count": 12,
   "metadata": {},
   "outputs": [],
   "source": [
    "# Imports\n",
    "import pandas as pd"
   ]
  },
  {
   "cell_type": "code",
   "execution_count": 13,
   "metadata": {},
   "outputs": [],
   "source": [
    "# Data in MHEALTHDATASET downloaded from UCI Machine Learning Repository: \n",
    "# http://archive.ics.uci.edu/ml/machine-learning-databases/00319/MHEALTHDATASET.zip\n",
    "combined_df = pd.DataFrame()"
   ]
  },
  {
   "cell_type": "code",
   "execution_count": 14,
   "metadata": {},
   "outputs": [],
   "source": [
    "# Loop through and add all 10 subjects' sensor data to dataframe\n",
    "for i in range(1, 11):\n",
    "    df = pd.read_csv(f'MHEALTHDATASET/mHealth_subject{i}.log', header=None, sep='\\t')\n",
    "    # Note: Excluding the ECG data collected with the chest sensor\n",
    "    df = df.loc[:, [0, 1, 2, 5, 6, 7, 8, 9, 10, 11, 12, 13, 14, 15, 16, 17, 18, 19, 20, 21, 22, 23]].rename(columns= {\n",
    "        0: 'acc_ch_x', \n",
    "        1: 'acc_ch_y', \n",
    "        2: 'acc_ch_z', \n",
    "        5: 'acc_la_x', \n",
    "        6: 'acc_la_y', m\n",
    "        7: 'acc_la_z', \n",
    "        8: 'gyr_la_x',\n",
    "        9: 'gyr_la_y', \n",
    "        10: 'gyr_la_z', \n",
    "        11: 'mag_la_x', \n",
    "        12: 'mag_la_y', \n",
    "        13: 'mag_la_z', \n",
    "        14: 'acc_rw_x', \n",
    "        15: 'acc_rw_y',\n",
    "        16: 'acc_rw_z', \n",
    "        17: 'gyr_rw_x', \n",
    "        18: 'gyr_rw_y', \n",
    "        19: 'gyr_rw_z', \n",
    "        20: 'mag_rw_x', \n",
    "        21: 'mag_rw_y', \n",
    "        22: 'mag_rw_z',\n",
    "        23: 'activity'\n",
    "    })\n",
    "    df['subject'] = f'subject{i}'\n",
    "    combined_df = pd.concat([combined_df, df])"
   ]
  },
  {
   "cell_type": "code",
   "execution_count": 15,
   "metadata": {},
   "outputs": [],
   "source": [
    "combined_df.to_csv('mhealth_full.csv', index=False)"
   ]
  },
  {
   "cell_type": "code",
   "execution_count": null,
   "metadata": {},
   "outputs": [],
   "source": []
  }
 ],
 "metadata": {
  "kernelspec": {
   "display_name": "Python 3",
   "language": "python",
   "name": "python3"
  },
  "language_info": {
   "codemirror_mode": {
    "name": "ipython",
    "version": 3
   },
   "file_extension": ".py",
   "mimetype": "text/x-python",
   "name": "python",
   "nbconvert_exporter": "python",
   "pygments_lexer": "ipython3",
   "version": "3.8.3"
  }
 },
 "nbformat": 4,
 "nbformat_minor": 4
}
